{
 "cells": [
  {
   "cell_type": "code",
   "execution_count": 1,
   "metadata": {},
   "outputs": [],
   "source": [
    "import pandas as pd\n",
    "import sys\n",
    "sys.path.append(\"../src/\")\n",
    "import torch\n",
    "from dataset import BengaliDatasetTrain\n",
    "import matplotlib.pyplot as plt\n",
    "import numpy as np\n",
    "%matplotlib inline"
   ]
  },
  {
   "cell_type": "code",
   "execution_count": 2,
   "metadata": {},
   "outputs": [],
   "source": [
    "dataset = BengaliDatasetTrain(folds = [0,1], img_height = 137, img_width = 236, \n",
    "                                mean = (0.485, 0.456, 0.406),\n",
    "                                std = (0.229, 0.224, 0.225),Image_size = 128)"
   ]
  },
  {
   "cell_type": "code",
   "execution_count": 3,
   "metadata": {},
   "outputs": [],
   "source": [
    "DEVICE = \"cuda\"\n",
    "IMG_HEIGHT=137\n",
    "IMG_WIDTH=236\n",
    "EPOCHS=15\n",
    "TRAIN_BATCH_SIZE=512\n",
    "TEST_BATCH_SIZE=256\n",
    "MODEL_MEAN=(0.485, 0.456, 0.406)\n",
    "MODEL_STD=(0.229, 0.224, 0.225)\n",
    "BASE_MODEL=\"efficientnet\"\n",
    "IMAGE_SIZE = 128\n",
    "\n",
    "TRAINING_FOLDS=[0,1,2,3]\n",
    "VALIDATION_FOLDS=[4]"
   ]
  },
  {
   "cell_type": "code",
   "execution_count": 4,
   "metadata": {},
   "outputs": [],
   "source": [
    "def create_dataloader(ds, bs):\n",
    "    return torch.utils.data.DataLoader( ds,\n",
    "                                        batch_size= bs,\n",
    "                                        shuffle = True,\n",
    "                                        num_workers = 4)"
   ]
  },
  {
   "cell_type": "code",
   "execution_count": 5,
   "metadata": {},
   "outputs": [],
   "source": [
    "train_dataset = BengaliDatasetTrain(folds = TRAINING_FOLDS, \n",
    "                                        img_height= IMG_HEIGHT,\n",
    "                                        img_width= IMG_WIDTH,\n",
    "                                        mean = MODEL_MEAN,\n",
    "                                        std = MODEL_STD,\n",
    "                                        Image_size = IMAGE_SIZE\n",
    "                                       )\n",
    "\n",
    "train_loader = create_dataloader(train_dataset, TRAIN_BATCH_SIZE)"
   ]
  },
  {
   "cell_type": "code",
   "execution_count": 6,
   "metadata": {},
   "outputs": [
    {
     "data": {
      "text/plain": [
       "<matplotlib.image.AxesImage at 0x27f5b1051c8>"
      ]
     },
     "execution_count": 6,
     "metadata": {},
     "output_type": "execute_result"
    },
    {
     "data": {
      "image/png": "[encoded data removed]",
      "text/plain": [
       "<Figure size 432x288 with 1 Axes>"
      ]
     },
     "metadata": {
      "needs_background": "light"
     },
     "output_type": "display_data"
    }
   ],
   "source": [
    "img = train_dataset[155][\"image\"].numpy().transpose((1,2,0))\n",
    "plt.imshow(img)"
   ]
  },
  {
   "cell_type": "code",
   "execution_count": 7,
   "metadata": {},
   "outputs": [
    {
     "data": {
      "text/plain": [
       "(3, 128, 128)"
      ]
     },
     "execution_count": 7,
     "metadata": {},
     "output_type": "execute_result"
    }
   ],
   "source": [
    "train_dataset[155][\"image\"].numpy().shape"
   ]
  },
  {
   "cell_type": "code",
   "execution_count": null,
   "metadata": {},
   "outputs": [],
   "source": []
  },
  {
   "cell_type": "code",
   "execution_count": null,
   "metadata": {},
   "outputs": [],
   "source": []
  }
 ],
 "metadata": {
  "kernelspec": {
   "display_name": "Python 3",
   "language": "python",
   "name": "python3"
  },
  "language_info": {
   "codemirror_mode": {
    "name": "ipython",
    "version": 3
   },
   "file_extension": ".py",
   "mimetype": "text/x-python",
   "name": "python",
   "nbconvert_exporter": "python",
   "pygments_lexer": "ipython3",
   "version": "3.7.4"
  }
 },
 "nbformat": 4,
 "nbformat_minor": 4
}
